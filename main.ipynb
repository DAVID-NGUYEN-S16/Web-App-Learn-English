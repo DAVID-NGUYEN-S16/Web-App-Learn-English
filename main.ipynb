{
 "cells": [
  {
   "cell_type": "code",
   "execution_count": 2,
   "metadata": {},
   "outputs": [
    {
     "name": "stdout",
     "output_type": "stream",
     "text": [
      "WARNING:tensorflow:From c:\\Users\\nguye\\AppData\\Local\\Programs\\Python\\Python310\\lib\\site-packages\\keras\\src\\losses.py:2976: The name tf.losses.sparse_softmax_cross_entropy is deprecated. Please use tf.compat.v1.losses.sparse_softmax_cross_entropy instead.\n",
      "\n"
     ]
    }
   ],
   "source": [
    "from app import db, app"
   ]
  },
  {
   "cell_type": "code",
   "execution_count": 3,
   "metadata": {},
   "outputs": [],
   "source": [
    "from utils import make_response, preprocess_text, text_to_speech, addipa\n",
    "import time\n",
    "import pandas as pd\n",
    "from models import *"
   ]
  },
  {
   "cell_type": "code",
   "execution_count": 6,
   "metadata": {},
   "outputs": [
    {
     "name": "stdout",
     "output_type": "stream",
     "text": [
      "./audio/_.mp3\n"
     ]
    }
   ],
   "source": [
    "with app.app_context():\n",
    "    data = vocab.query.filter_by(vocab=\"floor\").one()\n",
    "    print(data.audio_vocab)"
   ]
  },
  {
   "cell_type": "code",
   "execution_count": 4,
   "metadata": {},
   "outputs": [
    {
     "name": "stdout",
     "output_type": "stream",
     "text": [
      "Start processing \n",
      "oke\n",
      "10.332634210586548\n",
      "oke\n",
      "4.6170430183410645\n",
      "oke\n",
      "6.017036437988281\n",
      "oke\n",
      "6.100130081176758\n",
      "oke\n",
      "9.047146320343018\n"
     ]
    },
    {
     "name": "stderr",
     "output_type": "stream",
     "text": [
      "c:\\Users\\nguye\\AppData\\Local\\Programs\\Python\\Python310\\lib\\site-packages\\transformers\\pipelines\\base.py:1123: UserWarning: You seem to be using the pipelines sequentially on GPU. In order to maximize efficiency please use a dataset\n",
      "  warnings.warn(\n"
     ]
    },
    {
     "name": "stdout",
     "output_type": "stream",
     "text": [
      "oke\n",
      "7.59143328666687\n",
      "oke\n",
      "6.224541902542114\n",
      "oke\n",
      "4.528897047042847\n",
      "oke\n",
      "2.855353593826294\n",
      "oke\n",
      "3.9195713996887207\n",
      "oke\n",
      "4.224854230880737\n",
      "oke\n",
      "3.240243911743164\n",
      "oke\n",
      "5.232609987258911\n",
      "oke\n",
      "4.929205894470215\n",
      "oke\n",
      "3.6605396270751953\n",
      "oke\n",
      "6.103551626205444\n",
      "oke\n",
      "4.671351671218872\n",
      "oke\n",
      "5.142564058303833\n",
      "oke\n",
      "7.39500880241394\n",
      "oke\n",
      "3.697556495666504\n",
      "oke\n",
      "2.634215831756592\n",
      "oke\n",
      "2.2986037731170654\n",
      "oke\n",
      "2.394470453262329\n",
      "-----------\n",
      "3.1554036140441895\n",
      "oke\n",
      "2.0985612869262695\n",
      "oke\n",
      "2.8976552486419678\n",
      "oke\n",
      "3.8309102058410645\n",
      "oke\n",
      "3.2054860591888428\n",
      "oke\n",
      "4.194932222366333\n",
      "oke\n",
      "2.768115758895874\n",
      "oke\n",
      "5.283284664154053\n",
      "oke\n",
      "6.392138719558716\n",
      "oke\n",
      "8.139522552490234\n",
      "oke\n",
      "2.8737194538116455\n",
      "oke\n",
      "4.843805313110352\n",
      "oke\n",
      "3.898695468902588\n",
      "oke\n",
      "3.3420374393463135\n",
      "oke\n",
      "3.16021466255188\n",
      "oke\n",
      "7.897517681121826\n",
      "oke\n",
      "3.4811818599700928\n",
      "oke\n",
      "2.349658250808716\n",
      "oke\n",
      "4.394550561904907\n",
      "oke\n",
      "3.6179957389831543\n",
      "oke\n",
      "4.0621442794799805\n",
      "oke\n",
      "3.3150620460510254\n",
      "oke\n",
      "3.502033233642578\n",
      "oke\n",
      "4.660276412963867\n",
      "oke\n",
      "6.4989173412323\n",
      "oke\n",
      "2.622399091720581\n",
      "oke\n",
      "3.117994546890259\n",
      "oke\n",
      "3.5750222206115723\n",
      "oke\n",
      "3.5710251331329346\n",
      "oke\n",
      "3.3569068908691406\n",
      "oke\n",
      "3.775860071182251\n",
      "oke\n",
      "4.000532865524292\n",
      "oke\n",
      "4.1868603229522705\n",
      "oke\n",
      "3.546210527420044\n",
      "oke\n",
      "3.8099679946899414\n",
      "oke\n",
      "2.7426917552948\n",
      "oke\n",
      "3.538813829421997\n",
      "oke\n",
      "6.735029935836792\n",
      "oke\n",
      "3.244091033935547\n",
      "oke\n",
      "9.689563989639282\n",
      "oke\n",
      "3.5153703689575195\n",
      "oke\n",
      "4.315892457962036\n",
      "oke\n",
      "2.4705748558044434\n",
      "oke\n",
      "4.457651376724243\n",
      "oke\n",
      "5.506645441055298\n",
      "oke\n",
      "3.7434656620025635\n",
      "oke\n",
      "3.390160322189331\n",
      "oke\n",
      "4.036608457565308\n",
      "oke\n",
      "3.2187671661376953\n",
      "oke\n",
      "2.9508118629455566\n",
      "oke\n",
      "3.2171785831451416\n",
      "oke\n",
      "2.853508472442627\n",
      "oke\n",
      "2.6442267894744873\n",
      "oke\n",
      "2.7967214584350586\n",
      "oke\n",
      "3.361551284790039\n",
      "oke\n",
      "3.9046688079833984\n",
      "oke\n",
      "3.497375965118408\n",
      "oke\n",
      "3.473726511001587\n",
      "oke\n",
      "1.761880874633789\n",
      "oke\n",
      "3.1993894577026367\n",
      "oke\n",
      "3.6070127487182617\n",
      "oke\n",
      "4.4351582527160645\n",
      "oke\n",
      "6.481466054916382\n",
      "oke\n",
      "5.5008862018585205\n",
      "oke\n",
      "3.0665628910064697\n",
      "oke\n",
      "2.120074987411499\n",
      "oke\n",
      "8.081687927246094\n",
      "oke\n",
      "7.645439386367798\n",
      "oke\n",
      "4.656984329223633\n",
      "oke\n",
      "3.937420606613159\n",
      "oke\n",
      "3.7186086177825928\n",
      "oke\n",
      "4.484851598739624\n",
      "oke\n",
      "3.8655524253845215\n",
      "oke\n",
      "3.146697521209717\n",
      "oke\n",
      "4.275345325469971\n",
      "oke\n",
      "3.058661699295044\n",
      "oke\n",
      "4.062620401382446\n",
      "oke\n",
      "2.6302947998046875\n",
      "oke\n",
      "5.810667037963867\n",
      "oke\n",
      "3.0345563888549805\n",
      "oke\n",
      "3.0444395542144775\n",
      "oke\n",
      "2.728102207183838\n",
      "oke\n",
      "1.992154836654663\n",
      "oke\n",
      "3.9569342136383057\n",
      "oke\n",
      "3.6234004497528076\n",
      "oke\n",
      "2.7444827556610107\n",
      "oke\n",
      "4.574592590332031\n",
      "oke\n",
      "2.474102258682251\n",
      "oke\n",
      "3.550983428955078\n",
      "oke\n",
      "2.23258113861084\n",
      "oke\n",
      "3.677611827850342\n",
      "oke\n",
      "3.7334163188934326\n",
      "oke\n",
      "2.309431791305542\n"
     ]
    }
   ],
   "source": [
    "df = pd.read_csv(r\"E:\\app_english\\code_test\\data_vocab\\data_vocab\\Vocab 628d7014237441f6860b2626415e691e.csv\").reset_index()\n",
    "with app.app_context():\n",
    "    db.create_all()\n",
    "    # print(time.time() - start_time)\n",
    "    # for col in columns:\n",
    "    #     if col not in df.columns:\n",
    "    #         return {\"Status\": \"Please see format .csv with columns 'vocab', 'Phonetic', 'Mean', 'Example'\"}, 401\n",
    "    print(\"Start processing \")\n",
    "    for i in df.index:\n",
    "        start_time = time.time()\n",
    "        vocab_ = preprocess_text(df.vocab[i])\n",
    "        if pd.isnull(vocab_):\n",
    "            continue\n",
    "        try:\n",
    "            existing_vocab = vocab.query.filter_by(vocab=vocab_).one()\n",
    "        except :\n",
    "            existing_vocab = None\n",
    "        \n",
    "        \n",
    "        mean_ = preprocess_text(df.Mean[i])\n",
    "        example_ = preprocess_text(df.Example[i])\n",
    "        phonetic_vocab_ = addipa(vocab_)\n",
    "        phonetic_example_ = addipa(example_)\n",
    "        audio_example_ = text_to_speech(example_)\n",
    "        audio_vocab_ = text_to_speech(vocab_)\n",
    "        if existing_vocab == None:\n",
    "            print('oke')\n",
    "            data = vocab(vocab=vocab_, phonetic_vocab=phonetic_vocab_, phonetic_example=phonetic_example_, \n",
    "                            mean=mean_, example=example_,\n",
    "                            audio_example= audio_example_, audio_vocab = audio_vocab_)\n",
    "            db.session.add(data)\n",
    "            db.session.commit() \n",
    "        else:\n",
    "            print('-----------')\n",
    "            phonetic_vocab_ = addipa(vocab_)\n",
    "            phonetic_example_ = addipa(example_)\n",
    "            existing_vocab.mean = mean_\n",
    "            existing_vocab.example = example_\n",
    "            existing_vocab.audio_vocab = audio_example_\n",
    "            existing_vocab.audio_example = audio_vocab_\n",
    "            db.session.commit() \n",
    "        print(time.time() - start_time)"
   ]
  },
  {
   "cell_type": "code",
   "execution_count": 5,
   "metadata": {},
   "outputs": [
    {
     "data": {
      "application/vnd.jupyter.widget-view+json": {
       "model_id": "1e467cb679804ffbb6652443289051c2",
       "version_major": 2,
       "version_minor": 0
      },
      "text/plain": [
       "config.json:   0%|          | 0.00/1.51k [00:00<?, ?B/s]"
      ]
     },
     "metadata": {},
     "output_type": "display_data"
    },
    {
     "name": "stderr",
     "output_type": "stream",
     "text": [
      "c:\\Users\\nguye\\AppData\\Local\\Programs\\Python\\Python310\\lib\\site-packages\\huggingface_hub\\file_download.py:149: UserWarning: `huggingface_hub` cache-system uses symlinks by default to efficiently store duplicated files but your machine does not support them in C:\\Users\\nguye\\.cache\\huggingface\\hub\\models--describeai--gemini. Caching files will still work but in a degraded version that might require more space on your disk. This warning can be disabled by setting the `HF_HUB_DISABLE_SYMLINKS_WARNING` environment variable. For more details, see https://huggingface.co/docs/huggingface_hub/how-to-cache#limitations.\n",
      "To support symlinks on Windows, you either need to activate Developer Mode or to run Python as an administrator. In order to see activate developer mode, see this article: https://docs.microsoft.com/en-us/windows/apps/get-started/enable-your-device-for-development\n",
      "  warnings.warn(message)\n"
     ]
    },
    {
     "data": {
      "application/vnd.jupyter.widget-view+json": {
       "model_id": "5f320217afe74f12beccbe2b7c520513",
       "version_major": 2,
       "version_minor": 0
      },
      "text/plain": [
       "pytorch_model.bin:   0%|          | 0.00/2.95G [00:00<?, ?B/s]"
      ]
     },
     "metadata": {},
     "output_type": "display_data"
    },
    {
     "data": {
      "application/vnd.jupyter.widget-view+json": {
       "model_id": "3f478e578f9043029acb67771cab2d4c",
       "version_major": 2,
       "version_minor": 0
      },
      "text/plain": [
       "tokenizer_config.json:   0%|          | 0.00/1.93k [00:00<?, ?B/s]"
      ]
     },
     "metadata": {},
     "output_type": "display_data"
    },
    {
     "data": {
      "application/vnd.jupyter.widget-view+json": {
       "model_id": "d3323562d7d34afbba009f521043bf0e",
       "version_major": 2,
       "version_minor": 0
      },
      "text/plain": [
       "spiece.model:   0%|          | 0.00/792k [00:00<?, ?B/s]"
      ]
     },
     "metadata": {},
     "output_type": "display_data"
    },
    {
     "data": {
      "application/vnd.jupyter.widget-view+json": {
       "model_id": "5a033e556bf649afb56c3ec5079ef7c7",
       "version_major": 2,
       "version_minor": 0
      },
      "text/plain": [
       "tokenizer.json:   0%|          | 0.00/1.39M [00:00<?, ?B/s]"
      ]
     },
     "metadata": {},
     "output_type": "display_data"
    },
    {
     "data": {
      "application/vnd.jupyter.widget-view+json": {
       "model_id": "992822a653fe4cd2896bb9be96d5e3ec",
       "version_major": 2,
       "version_minor": 0
      },
      "text/plain": [
       "special_tokens_map.json:   0%|          | 0.00/1.79k [00:00<?, ?B/s]"
      ]
     },
     "metadata": {},
     "output_type": "display_data"
    },
    {
     "name": "stdout",
     "output_type": "stream",
     "text": [
      "Summarized code: This code is saying hello to the world!\n"
     ]
    }
   ],
   "source": [
    "from transformers import pipeline, set_seed\n",
    "\n",
    "summarizer = pipeline('text2text-generation', model='describeai/gemini')\n",
    "\n"
   ]
  },
  {
   "cell_type": "code",
   "execution_count": 6,
   "metadata": {},
   "outputs": [
    {
     "name": "stdout",
     "output_type": "stream",
     "text": [
      "Summarized code: This code is giving me a common example with this word 'home'.\n"
     ]
    }
   ],
   "source": [
    "code = \"Please give me a common example with this word 'home'\"\n",
    "\n",
    "response = summarizer(code, max_length=100, num_beams=3)\n",
    "print(\"Summarized code: \" + response[0]['generated_text'])"
   ]
  },
  {
   "cell_type": "code",
   "execution_count": 2,
   "metadata": {},
   "outputs": [
    {
     "name": "stdout",
     "output_type": "stream",
     "text": [
      "Looking in indexes: https://pypi.org/simple, https://pypi.ngc.nvidia.com\n",
      "Collecting pronouncing\n",
      "  Downloading pronouncing-0.2.0.tar.gz (17 kB)\n",
      "  Preparing metadata (setup.py): started\n",
      "  Preparing metadata (setup.py): finished with status 'done'\n",
      "Collecting cmudict>=0.4.0 (from pronouncing)\n",
      "  Downloading cmudict-1.0.18-py3-none-any.whl.metadata (3.5 kB)\n",
      "Requirement already satisfied: importlib-metadata>=5 in c:\\users\\nguye\\appdata\\local\\programs\\python\\python310\\lib\\site-packages (from cmudict>=0.4.0->pronouncing) (6.8.0)\n",
      "Requirement already satisfied: importlib-resources>=5 in c:\\users\\nguye\\appdata\\local\\programs\\python\\python310\\lib\\site-packages (from cmudict>=0.4.0->pronouncing) (6.1.1)\n",
      "Requirement already satisfied: zipp>=0.5 in c:\\users\\nguye\\appdata\\local\\programs\\python\\python310\\lib\\site-packages (from importlib-metadata>=5->cmudict>=0.4.0->pronouncing) (3.16.2)\n",
      "Downloading cmudict-1.0.18-py3-none-any.whl (939 kB)\n",
      "   ---------------------------------------- 0.0/939.4 kB ? eta -:--:--\n",
      "   -- ------------------------------------- 61.4/939.4 kB 1.1 MB/s eta 0:00:01\n",
      "   --- ------------------------------------ 92.2/939.4 kB 1.7 MB/s eta 0:00:01\n",
      "   --------- ------------------------------ 225.3/939.4 kB 1.5 MB/s eta 0:00:01\n",
      "   ----------- ---------------------------- 266.2/939.4 kB 1.4 MB/s eta 0:00:01\n",
      "   ------------- -------------------------- 327.7/939.4 kB 1.4 MB/s eta 0:00:01\n",
      "   ---------------- ----------------------- 389.1/939.4 kB 1.3 MB/s eta 0:00:01\n",
      "   ------------------ --------------------- 430.1/939.4 kB 1.3 MB/s eta 0:00:01\n",
      "   --------------------- ------------------ 501.8/939.4 kB 1.3 MB/s eta 0:00:01\n",
      "   ----------------------- ---------------- 553.0/939.4 kB 1.3 MB/s eta 0:00:01\n",
      "   -------------------------- ------------- 614.4/939.4 kB 1.3 MB/s eta 0:00:01\n",
      "   --------------------------- ------------ 655.4/939.4 kB 1.3 MB/s eta 0:00:01\n",
      "   ------------------------------ --------- 727.0/939.4 kB 1.3 MB/s eta 0:00:01\n",
      "   --------------------------------- ------ 778.2/939.4 kB 1.3 MB/s eta 0:00:01\n",
      "   ------------------------------------ --- 860.2/939.4 kB 1.3 MB/s eta 0:00:01\n",
      "   -------------------------------------- - 901.1/939.4 kB 1.3 MB/s eta 0:00:01\n",
      "   ---------------------------------------- 939.4/939.4 kB 1.3 MB/s eta 0:00:00\n",
      "Building wheels for collected packages: pronouncing\n",
      "  Building wheel for pronouncing (setup.py): started\n",
      "  Building wheel for pronouncing (setup.py): finished with status 'done'\n",
      "  Created wheel for pronouncing: filename=pronouncing-0.2.0-py2.py3-none-any.whl size=6260 sha256=1a2e7b5391d14bb0024e7a47a9d865a701356b89d41aaa14e46ab9a956487bb8\n",
      "  Stored in directory: C:\\Users\\nguye\\AppData\\Local\\Temp\\pip-ephem-wheel-cache-s8gwh3hl\\wheels\\05\\f6\\1d\\599c67da1fa48c086d8c49e8fc6bd5f05bc9fa66fb04bed5db\n",
      "Successfully built pronouncing\n",
      "Installing collected packages: cmudict, pronouncing\n",
      "Successfully installed cmudict-1.0.18 pronouncing-0.2.0\n"
     ]
    },
    {
     "name": "stderr",
     "output_type": "stream",
     "text": [
      "WARNING: Ignoring invalid distribution - (c:\\users\\nguye\\appdata\\local\\programs\\python\\python310\\lib\\site-packages)\n",
      "WARNING: Ignoring invalid distribution -ensorflow-intel (c:\\users\\nguye\\appdata\\local\\programs\\python\\python310\\lib\\site-packages)\n",
      "WARNING: Ignoring invalid distribution -illow (c:\\users\\nguye\\appdata\\local\\programs\\python\\python310\\lib\\site-packages)\n",
      "WARNING: Ignoring invalid distribution -orch (c:\\users\\nguye\\appdata\\local\\programs\\python\\python310\\lib\\site-packages)\n",
      "WARNING: Ignoring invalid distribution -rotobuf (c:\\users\\nguye\\appdata\\local\\programs\\python\\python310\\lib\\site-packages)\n",
      "WARNING: Ignoring invalid distribution -ylibjpeg-libjpeg (c:\\users\\nguye\\appdata\\local\\programs\\python\\python310\\lib\\site-packages)\n",
      "WARNING: Ignoring invalid distribution -ython-gdcm (c:\\users\\nguye\\appdata\\local\\programs\\python\\python310\\lib\\site-packages)\n",
      "WARNING: Ignoring invalid distribution - (c:\\users\\nguye\\appdata\\local\\programs\\python\\python310\\lib\\site-packages)\n",
      "WARNING: Ignoring invalid distribution -ensorflow-intel (c:\\users\\nguye\\appdata\\local\\programs\\python\\python310\\lib\\site-packages)\n",
      "WARNING: Ignoring invalid distribution -illow (c:\\users\\nguye\\appdata\\local\\programs\\python\\python310\\lib\\site-packages)\n",
      "WARNING: Ignoring invalid distribution -orch (c:\\users\\nguye\\appdata\\local\\programs\\python\\python310\\lib\\site-packages)\n",
      "WARNING: Ignoring invalid distribution -rotobuf (c:\\users\\nguye\\appdata\\local\\programs\\python\\python310\\lib\\site-packages)\n",
      "WARNING: Ignoring invalid distribution -ylibjpeg-libjpeg (c:\\users\\nguye\\appdata\\local\\programs\\python\\python310\\lib\\site-packages)\n",
      "WARNING: Ignoring invalid distribution -ython-gdcm (c:\\users\\nguye\\appdata\\local\\programs\\python\\python310\\lib\\site-packages)\n",
      "\n",
      "[notice] A new release of pip is available: 23.3.1 -> 24.0\n",
      "[notice] To update, run: python.exe -m pip install --upgrade pip\n"
     ]
    }
   ],
   "source": [
    "!pip install pronouncing"
   ]
  },
  {
   "cell_type": "code",
   "execution_count": 3,
   "metadata": {},
   "outputs": [
    {
     "name": "stdout",
     "output_type": "stream",
     "text": [
      "Phonetic for coding: K OW1 D IH0 NG\n"
     ]
    }
   ],
   "source": [
    "import pronouncing\n",
    "\n",
    "word = \"coding\"\n",
    "phonetic = pronouncing.phones_for_word(word)\n",
    "if phonetic:\n",
    "    print(f\"Phonetic for {word}: {phonetic[0]}\")\n",
    "else:\n",
    "    print(f\"No phonetic found for {word}\")\n"
   ]
  },
  {
   "cell_type": "code",
   "execution_count": 5,
   "metadata": {},
   "outputs": [
    {
     "name": "stdout",
     "output_type": "stream",
     "text": [
      "Looking in indexes: https://pypi.org/simple, https://pypi.ngc.nvidia.com\n",
      "Collecting eng-to-ipa\n",
      "  Downloading eng_to_ipa-0.0.2.tar.gz (2.8 MB)\n",
      "     ---------------------------------------- 0.0/2.8 MB ? eta -:--:--\n",
      "     ---------------------------------------- 0.0/2.8 MB ? eta -:--:--\n",
      "     - -------------------------------------- 0.1/2.8 MB 1.3 MB/s eta 0:00:03\n",
      "     -- ------------------------------------- 0.2/2.8 MB 1.3 MB/s eta 0:00:03\n",
      "     --- ------------------------------------ 0.2/2.8 MB 1.4 MB/s eta 0:00:02\n",
      "     ---- ----------------------------------- 0.3/2.8 MB 1.3 MB/s eta 0:00:02\n",
      "     ---- ----------------------------------- 0.3/2.8 MB 1.3 MB/s eta 0:00:02\n",
      "     ----- ---------------------------------- 0.4/2.8 MB 1.3 MB/s eta 0:00:02\n",
      "     ------ --------------------------------- 0.5/2.8 MB 1.3 MB/s eta 0:00:02\n",
      "     ------- -------------------------------- 0.5/2.8 MB 1.2 MB/s eta 0:00:02\n",
      "     -------- ------------------------------- 0.6/2.8 MB 1.2 MB/s eta 0:00:02\n",
      "     --------- ------------------------------ 0.7/2.8 MB 1.3 MB/s eta 0:00:02\n",
      "     ---------- ----------------------------- 0.7/2.8 MB 1.3 MB/s eta 0:00:02\n",
      "     ---------- ----------------------------- 0.8/2.8 MB 1.2 MB/s eta 0:00:02\n",
      "     ----------- ---------------------------- 0.8/2.8 MB 1.2 MB/s eta 0:00:02\n",
      "     ------------ --------------------------- 0.9/2.8 MB 1.2 MB/s eta 0:00:02\n",
      "     ------------- -------------------------- 0.9/2.8 MB 1.2 MB/s eta 0:00:02\n",
      "     -------------- ------------------------- 1.0/2.8 MB 1.2 MB/s eta 0:00:02\n",
      "     -------------- ------------------------- 1.0/2.8 MB 1.2 MB/s eta 0:00:02\n",
      "     --------------- ------------------------ 1.1/2.8 MB 1.2 MB/s eta 0:00:02\n",
      "     ---------------- ----------------------- 1.2/2.8 MB 1.2 MB/s eta 0:00:02\n",
      "     ----------------- ---------------------- 1.2/2.8 MB 1.2 MB/s eta 0:00:02\n",
      "     ------------------ --------------------- 1.3/2.8 MB 1.2 MB/s eta 0:00:02\n",
      "     ------------------ --------------------- 1.3/2.8 MB 1.2 MB/s eta 0:00:02\n",
      "     ------------------- -------------------- 1.4/2.8 MB 1.2 MB/s eta 0:00:02\n",
      "     -------------------- ------------------- 1.4/2.8 MB 1.2 MB/s eta 0:00:02\n",
      "     --------------------- ------------------ 1.5/2.8 MB 1.2 MB/s eta 0:00:02\n",
      "     ---------------------- ----------------- 1.6/2.8 MB 1.2 MB/s eta 0:00:02\n",
      "     ---------------------- ----------------- 1.6/2.8 MB 1.2 MB/s eta 0:00:01\n",
      "     ----------------------- ---------------- 1.7/2.8 MB 1.2 MB/s eta 0:00:01\n",
      "     ------------------------ --------------- 1.7/2.8 MB 1.2 MB/s eta 0:00:01\n",
      "     ------------------------- -------------- 1.8/2.8 MB 1.2 MB/s eta 0:00:01\n",
      "     -------------------------- ------------- 1.8/2.8 MB 1.2 MB/s eta 0:00:01\n",
      "     -------------------------- ------------- 1.9/2.8 MB 1.2 MB/s eta 0:00:01\n",
      "     --------------------------- ------------ 1.9/2.8 MB 1.2 MB/s eta 0:00:01\n",
      "     ---------------------------- ----------- 2.0/2.8 MB 1.2 MB/s eta 0:00:01\n",
      "     ----------------------------- ---------- 2.0/2.8 MB 1.2 MB/s eta 0:00:01\n",
      "     ------------------------------ --------- 2.1/2.8 MB 1.2 MB/s eta 0:00:01\n",
      "     ------------------------------ --------- 2.2/2.8 MB 1.2 MB/s eta 0:00:01\n",
      "     ------------------------------- -------- 2.2/2.8 MB 1.2 MB/s eta 0:00:01\n",
      "     -------------------------------- ------- 2.3/2.8 MB 1.2 MB/s eta 0:00:01\n",
      "     --------------------------------- ------ 2.3/2.8 MB 1.2 MB/s eta 0:00:01\n",
      "     ---------------------------------- ----- 2.4/2.8 MB 1.2 MB/s eta 0:00:01\n",
      "     ----------------------------------- ---- 2.5/2.8 MB 1.2 MB/s eta 0:00:01\n",
      "     ----------------------------------- ---- 2.5/2.8 MB 1.2 MB/s eta 0:00:01\n",
      "     ------------------------------------ --- 2.6/2.8 MB 1.2 MB/s eta 0:00:01\n",
      "     ------------------------------------- -- 2.6/2.8 MB 1.2 MB/s eta 0:00:01\n",
      "     -------------------------------------- - 2.7/2.8 MB 1.2 MB/s eta 0:00:01\n",
      "     ---------------------------------------  2.7/2.8 MB 1.2 MB/s eta 0:00:01\n",
      "     ---------------------------------------  2.8/2.8 MB 1.2 MB/s eta 0:00:01\n",
      "     ---------------------------------------- 2.8/2.8 MB 1.2 MB/s eta 0:00:00\n",
      "  Preparing metadata (setup.py): started\n",
      "  Preparing metadata (setup.py): finished with status 'done'\n",
      "Building wheels for collected packages: eng-to-ipa\n",
      "  Building wheel for eng-to-ipa (setup.py): started\n",
      "  Building wheel for eng-to-ipa (setup.py): finished with status 'done'\n",
      "  Created wheel for eng-to-ipa: filename=eng_to_ipa-0.0.2-py3-none-any.whl size=2822631 sha256=38bbf94e03b1be44d22bf06b99a8e1b37e76b75f6a681ac616f258c641cc6fe3\n",
      "  Stored in directory: C:\\Users\\nguye\\AppData\\Local\\Temp\\pip-ephem-wheel-cache-iams59a_\\wheels\\5b\\ab\\07\\fe6722f710d8ef8bd0ccb4eb689ef96f5552f3fc0c80c1aa9c\n",
      "Successfully built eng-to-ipa\n",
      "Installing collected packages: eng-to-ipa\n",
      "Successfully installed eng-to-ipa-0.0.2\n"
     ]
    },
    {
     "name": "stderr",
     "output_type": "stream",
     "text": [
      "WARNING: Ignoring invalid distribution - (c:\\users\\nguye\\appdata\\local\\programs\\python\\python310\\lib\\site-packages)\n",
      "WARNING: Ignoring invalid distribution -ensorflow-intel (c:\\users\\nguye\\appdata\\local\\programs\\python\\python310\\lib\\site-packages)\n",
      "WARNING: Ignoring invalid distribution -illow (c:\\users\\nguye\\appdata\\local\\programs\\python\\python310\\lib\\site-packages)\n",
      "WARNING: Ignoring invalid distribution -orch (c:\\users\\nguye\\appdata\\local\\programs\\python\\python310\\lib\\site-packages)\n",
      "WARNING: Ignoring invalid distribution -rotobuf (c:\\users\\nguye\\appdata\\local\\programs\\python\\python310\\lib\\site-packages)\n",
      "WARNING: Ignoring invalid distribution -ylibjpeg-libjpeg (c:\\users\\nguye\\appdata\\local\\programs\\python\\python310\\lib\\site-packages)\n",
      "WARNING: Ignoring invalid distribution -ython-gdcm (c:\\users\\nguye\\appdata\\local\\programs\\python\\python310\\lib\\site-packages)\n",
      "WARNING: Ignoring invalid distribution - (c:\\users\\nguye\\appdata\\local\\programs\\python\\python310\\lib\\site-packages)\n",
      "WARNING: Ignoring invalid distribution -ensorflow-intel (c:\\users\\nguye\\appdata\\local\\programs\\python\\python310\\lib\\site-packages)\n",
      "WARNING: Ignoring invalid distribution -illow (c:\\users\\nguye\\appdata\\local\\programs\\python\\python310\\lib\\site-packages)\n",
      "WARNING: Ignoring invalid distribution -orch (c:\\users\\nguye\\appdata\\local\\programs\\python\\python310\\lib\\site-packages)\n",
      "WARNING: Ignoring invalid distribution -rotobuf (c:\\users\\nguye\\appdata\\local\\programs\\python\\python310\\lib\\site-packages)\n",
      "WARNING: Ignoring invalid distribution -ylibjpeg-libjpeg (c:\\users\\nguye\\appdata\\local\\programs\\python\\python310\\lib\\site-packages)\n",
      "WARNING: Ignoring invalid distribution -ython-gdcm (c:\\users\\nguye\\appdata\\local\\programs\\python\\python310\\lib\\site-packages)\n",
      "\n",
      "[notice] A new release of pip is available: 23.3.1 -> 24.0\n",
      "[notice] To update, run: python.exe -m pip install --upgrade pip\n"
     ]
    }
   ],
   "source": [
    "!pip install eng-to-ipa\n"
   ]
  },
  {
   "cell_type": "code",
   "execution_count": 7,
   "metadata": {},
   "outputs": [],
   "source": [
    "from flask import jsonify\n",
    "from transformers import pipeline\n",
    "from datasets import load_dataset\n",
    "import soundfile as sf\n",
    "import re\n",
    "import torch\n",
    "import time\n",
    "import pandas as pd\n",
    "from eng_to_ipa import ipa_list\n",
    "from setting import embedding_speech\n",
    "def preprocess_text(text: str) -> str:    \n",
    "    if pd.isnull(text):\n",
    "        return \" \"\n",
    "    text = re.sub(r\"['\\\",\\.\\?:\\-!]\", \"\", text)\n",
    "    text = text.strip()\n",
    "    text = \" \".join(text.split())\n",
    "    text = text.lower()\n",
    "    return text\n",
    "\n",
    "synthesiser = pipeline(\"text-to-speech\", \"microsoft/speecht5_tts\", device=0)\n",
    "# embeddings_dataset = load_dataset(\"Matthijs/cmu-arctic-xvectors\", split=\"validation\")\n",
    "\n",
    "\n",
    "speaker_embedding = torch.tensor(embedding_speech).unsqueeze(0)\n"
   ]
  },
  {
   "cell_type": "code",
   "execution_count": 8,
   "metadata": {},
   "outputs": [
    {
     "ename": "FileNotFoundError",
     "evalue": "Unable to find 'hf://datasets/Matthijs/cmu-arctic-xvectors@36e87b347a6a70f0420445b02ec40c55556f9ed7/default/validation/0000.parquet' with any supported extension ['.csv', '.tsv', '.json', '.jsonl', '.parquet', '.geoparquet', '.gpq', '.arrow', '.txt', '.tar', '.blp', '.bmp', '.dib', '.bufr', '.cur', '.pcx', '.dcx', '.dds', '.ps', '.eps', '.fit', '.fits', '.fli', '.flc', '.ftc', '.ftu', '.gbr', '.gif', '.grib', '.h5', '.hdf', '.png', '.apng', '.jp2', '.j2k', '.jpc', '.jpf', '.jpx', '.j2c', '.icns', '.ico', '.im', '.iim', '.tif', '.tiff', '.jfif', '.jpe', '.jpg', '.jpeg', '.mpg', '.mpeg', '.msp', '.pcd', '.pxr', '.pbm', '.pgm', '.ppm', '.pnm', '.psd', '.bw', '.rgb', '.rgba', '.sgi', '.ras', '.tga', '.icb', '.vda', '.vst', '.webp', '.wmf', '.emf', '.xbm', '.xpm', '.BLP', '.BMP', '.DIB', '.BUFR', '.CUR', '.PCX', '.DCX', '.DDS', '.PS', '.EPS', '.FIT', '.FITS', '.FLI', '.FLC', '.FTC', '.FTU', '.GBR', '.GIF', '.GRIB', '.H5', '.HDF', '.PNG', '.APNG', '.JP2', '.J2K', '.JPC', '.JPF', '.JPX', '.J2C', '.ICNS', '.ICO', '.IM', '.IIM', '.TIF', '.TIFF', '.JFIF', '.JPE', '.JPG', '.JPEG', '.MPG', '.MPEG', '.MSP', '.PCD', '.PXR', '.PBM', '.PGM', '.PPM', '.PNM', '.PSD', '.BW', '.RGB', '.RGBA', '.SGI', '.RAS', '.TGA', '.ICB', '.VDA', '.VST', '.WEBP', '.WMF', '.EMF', '.XBM', '.XPM', '.aiff', '.au', '.avr', '.caf', '.flac', '.htk', '.svx', '.mat4', '.mat5', '.mpc2k', '.ogg', '.paf', '.pvf', '.raw', '.rf64', '.sd2', '.sds', '.ircam', '.voc', '.w64', '.wav', '.nist', '.wavex', '.wve', '.xi', '.mp3', '.opus', '.AIFF', '.AU', '.AVR', '.CAF', '.FLAC', '.HTK', '.SVX', '.MAT4', '.MAT5', '.MPC2K', '.OGG', '.PAF', '.PVF', '.RAW', '.RF64', '.SD2', '.SDS', '.IRCAM', '.VOC', '.W64', '.WAV', '.NIST', '.WAVEX', '.WVE', '.XI', '.MP3', '.OPUS', '.zip']",
     "output_type": "error",
     "traceback": [
      "\u001b[1;31m---------------------------------------------------------------------------\u001b[0m",
      "\u001b[1;31mFileNotFoundError\u001b[0m                         Traceback (most recent call last)",
      "Cell \u001b[1;32mIn[8], line 2\u001b[0m\n\u001b[0;32m      1\u001b[0m \u001b[38;5;28;01mfrom\u001b[39;00m \u001b[38;5;21;01mdatasets\u001b[39;00m \u001b[38;5;28;01mimport\u001b[39;00m load_dataset\n\u001b[1;32m----> 2\u001b[0m embeddings_dataset \u001b[38;5;241m=\u001b[39m \u001b[43mload_dataset\u001b[49m\u001b[43m(\u001b[49m\u001b[38;5;124;43m\"\u001b[39;49m\u001b[38;5;124;43mMatthijs/cmu-arctic-xvectors\u001b[39;49m\u001b[38;5;124;43m\"\u001b[39;49m\u001b[43m,\u001b[49m\u001b[43m \u001b[49m\u001b[43msplit\u001b[49m\u001b[38;5;241;43m=\u001b[39;49m\u001b[38;5;124;43m\"\u001b[39;49m\u001b[38;5;124;43mvalidation\u001b[39;49m\u001b[38;5;124;43m\"\u001b[39;49m\u001b[43m)\u001b[49m\n",
      "File \u001b[1;32mc:\\Users\\nguye\\AppData\\Local\\Programs\\Python\\Python310\\lib\\site-packages\\datasets\\load.py:2556\u001b[0m, in \u001b[0;36mload_dataset\u001b[1;34m(path, name, data_dir, data_files, split, cache_dir, features, download_config, download_mode, verification_mode, ignore_verifications, keep_in_memory, save_infos, revision, token, use_auth_token, task, streaming, num_proc, storage_options, trust_remote_code, **config_kwargs)\u001b[0m\n\u001b[0;32m   2551\u001b[0m verification_mode \u001b[38;5;241m=\u001b[39m VerificationMode(\n\u001b[0;32m   2552\u001b[0m     (verification_mode \u001b[38;5;129;01mor\u001b[39;00m VerificationMode\u001b[38;5;241m.\u001b[39mBASIC_CHECKS) \u001b[38;5;28;01mif\u001b[39;00m \u001b[38;5;129;01mnot\u001b[39;00m save_infos \u001b[38;5;28;01melse\u001b[39;00m VerificationMode\u001b[38;5;241m.\u001b[39mALL_CHECKS\n\u001b[0;32m   2553\u001b[0m )\n\u001b[0;32m   2555\u001b[0m \u001b[38;5;66;03m# Create a dataset builder\u001b[39;00m\n\u001b[1;32m-> 2556\u001b[0m builder_instance \u001b[38;5;241m=\u001b[39m load_dataset_builder(\n\u001b[0;32m   2557\u001b[0m     path\u001b[38;5;241m=\u001b[39mpath,\n\u001b[0;32m   2558\u001b[0m     name\u001b[38;5;241m=\u001b[39mname,\n\u001b[0;32m   2559\u001b[0m     data_dir\u001b[38;5;241m=\u001b[39mdata_dir,\n\u001b[0;32m   2560\u001b[0m     data_files\u001b[38;5;241m=\u001b[39mdata_files,\n\u001b[0;32m   2561\u001b[0m     cache_dir\u001b[38;5;241m=\u001b[39mcache_dir,\n\u001b[0;32m   2562\u001b[0m     features\u001b[38;5;241m=\u001b[39mfeatures,\n\u001b[0;32m   2563\u001b[0m     download_config\u001b[38;5;241m=\u001b[39mdownload_config,\n\u001b[0;32m   2564\u001b[0m     download_mode\u001b[38;5;241m=\u001b[39mdownload_mode,\n\u001b[0;32m   2565\u001b[0m     revision\u001b[38;5;241m=\u001b[39mrevision,\n\u001b[0;32m   2566\u001b[0m     token\u001b[38;5;241m=\u001b[39mtoken,\n\u001b[0;32m   2567\u001b[0m     storage_options\u001b[38;5;241m=\u001b[39mstorage_options,\n\u001b[0;32m   2568\u001b[0m     trust_remote_code\u001b[38;5;241m=\u001b[39mtrust_remote_code,\n\u001b[0;32m   2569\u001b[0m     _require_default_config_name\u001b[38;5;241m=\u001b[39mname \u001b[38;5;129;01mis\u001b[39;00m \u001b[38;5;28;01mNone\u001b[39;00m,\n\u001b[0;32m   2570\u001b[0m     \u001b[38;5;241m*\u001b[39m\u001b[38;5;241m*\u001b[39mconfig_kwargs,\n\u001b[0;32m   2571\u001b[0m )\n\u001b[0;32m   2573\u001b[0m \u001b[38;5;66;03m# Return iterable dataset in case of streaming\u001b[39;00m\n\u001b[0;32m   2574\u001b[0m \u001b[38;5;28;01mif\u001b[39;00m streaming:\n",
      "File \u001b[1;32mc:\\Users\\nguye\\AppData\\Local\\Programs\\Python\\Python310\\lib\\site-packages\\datasets\\load.py:2265\u001b[0m, in \u001b[0;36mload_dataset_builder\u001b[1;34m(path, name, data_dir, data_files, cache_dir, features, download_config, download_mode, revision, token, use_auth_token, storage_options, trust_remote_code, _require_default_config_name, **config_kwargs)\u001b[0m\n\u001b[0;32m   2263\u001b[0m builder_cls \u001b[38;5;241m=\u001b[39m get_dataset_builder_class(dataset_module, dataset_name\u001b[38;5;241m=\u001b[39mdataset_name)\n\u001b[0;32m   2264\u001b[0m \u001b[38;5;66;03m# Instantiate the dataset builder\u001b[39;00m\n\u001b[1;32m-> 2265\u001b[0m builder_instance: DatasetBuilder \u001b[38;5;241m=\u001b[39m builder_cls(\n\u001b[0;32m   2266\u001b[0m     cache_dir\u001b[38;5;241m=\u001b[39mcache_dir,\n\u001b[0;32m   2267\u001b[0m     dataset_name\u001b[38;5;241m=\u001b[39mdataset_name,\n\u001b[0;32m   2268\u001b[0m     config_name\u001b[38;5;241m=\u001b[39mconfig_name,\n\u001b[0;32m   2269\u001b[0m     data_dir\u001b[38;5;241m=\u001b[39mdata_dir,\n\u001b[0;32m   2270\u001b[0m     data_files\u001b[38;5;241m=\u001b[39mdata_files,\n\u001b[0;32m   2271\u001b[0m     \u001b[38;5;28mhash\u001b[39m\u001b[38;5;241m=\u001b[39mdataset_module\u001b[38;5;241m.\u001b[39mhash,\n\u001b[0;32m   2272\u001b[0m     info\u001b[38;5;241m=\u001b[39minfo,\n\u001b[0;32m   2273\u001b[0m     features\u001b[38;5;241m=\u001b[39mfeatures,\n\u001b[0;32m   2274\u001b[0m     token\u001b[38;5;241m=\u001b[39mtoken,\n\u001b[0;32m   2275\u001b[0m     storage_options\u001b[38;5;241m=\u001b[39mstorage_options,\n\u001b[0;32m   2276\u001b[0m     \u001b[38;5;241m*\u001b[39m\u001b[38;5;241m*\u001b[39mbuilder_kwargs,\n\u001b[0;32m   2277\u001b[0m     \u001b[38;5;241m*\u001b[39m\u001b[38;5;241m*\u001b[39mconfig_kwargs,\n\u001b[0;32m   2278\u001b[0m )\n\u001b[0;32m   2279\u001b[0m builder_instance\u001b[38;5;241m.\u001b[39m_use_legacy_cache_dir_if_possible(dataset_module)\n\u001b[0;32m   2281\u001b[0m \u001b[38;5;28;01mreturn\u001b[39;00m builder_instance\n",
      "File \u001b[1;32mc:\\Users\\nguye\\AppData\\Local\\Programs\\Python\\Python310\\lib\\site-packages\\datasets\\builder.py:371\u001b[0m, in \u001b[0;36mDatasetBuilder.__init__\u001b[1;34m(self, cache_dir, dataset_name, config_name, hash, base_path, info, features, token, use_auth_token, repo_id, data_files, data_dir, storage_options, writer_batch_size, name, **config_kwargs)\u001b[0m\n\u001b[0;32m    369\u001b[0m \u001b[38;5;28;01mif\u001b[39;00m data_dir \u001b[38;5;129;01mis\u001b[39;00m \u001b[38;5;129;01mnot\u001b[39;00m \u001b[38;5;28;01mNone\u001b[39;00m:\n\u001b[0;32m    370\u001b[0m     config_kwargs[\u001b[38;5;124m\"\u001b[39m\u001b[38;5;124mdata_dir\u001b[39m\u001b[38;5;124m\"\u001b[39m] \u001b[38;5;241m=\u001b[39m data_dir\n\u001b[1;32m--> 371\u001b[0m \u001b[38;5;28mself\u001b[39m\u001b[38;5;241m.\u001b[39mconfig, \u001b[38;5;28mself\u001b[39m\u001b[38;5;241m.\u001b[39mconfig_id \u001b[38;5;241m=\u001b[39m \u001b[38;5;28mself\u001b[39m\u001b[38;5;241m.\u001b[39m_create_builder_config(\n\u001b[0;32m    372\u001b[0m     config_name\u001b[38;5;241m=\u001b[39mconfig_name,\n\u001b[0;32m    373\u001b[0m     custom_features\u001b[38;5;241m=\u001b[39mfeatures,\n\u001b[0;32m    374\u001b[0m     \u001b[38;5;241m*\u001b[39m\u001b[38;5;241m*\u001b[39mconfig_kwargs,\n\u001b[0;32m    375\u001b[0m )\n\u001b[0;32m    377\u001b[0m \u001b[38;5;66;03m# prepare info: DatasetInfo are a standardized dataclass across all datasets\u001b[39;00m\n\u001b[0;32m    378\u001b[0m \u001b[38;5;66;03m# Prefill datasetinfo\u001b[39;00m\n\u001b[0;32m    379\u001b[0m \u001b[38;5;28;01mif\u001b[39;00m info \u001b[38;5;129;01mis\u001b[39;00m \u001b[38;5;28;01mNone\u001b[39;00m:\n\u001b[0;32m    380\u001b[0m     \u001b[38;5;66;03m# TODO FOR PACKAGED MODULES IT IMPORTS DATA FROM src/packaged_modules which doesn't make sense\u001b[39;00m\n",
      "File \u001b[1;32mc:\\Users\\nguye\\AppData\\Local\\Programs\\Python\\Python310\\lib\\site-packages\\datasets\\builder.py:620\u001b[0m, in \u001b[0;36mDatasetBuilder._create_builder_config\u001b[1;34m(self, config_name, custom_features, **config_kwargs)\u001b[0m\n\u001b[0;32m    617\u001b[0m     \u001b[38;5;28;01mraise\u001b[39;00m \u001b[38;5;167;01mValueError\u001b[39;00m(\u001b[38;5;124mf\u001b[39m\u001b[38;5;124m\"\u001b[39m\u001b[38;5;124mBuilderConfig must have a name, got \u001b[39m\u001b[38;5;132;01m{\u001b[39;00mbuilder_config\u001b[38;5;241m.\u001b[39mname\u001b[38;5;132;01m}\u001b[39;00m\u001b[38;5;124m\"\u001b[39m)\n\u001b[0;32m    619\u001b[0m \u001b[38;5;66;03m# resolve data files if needed\u001b[39;00m\n\u001b[1;32m--> 620\u001b[0m \u001b[43mbuilder_config\u001b[49m\u001b[38;5;241;43m.\u001b[39;49m\u001b[43m_resolve_data_files\u001b[49m\u001b[43m(\u001b[49m\n\u001b[0;32m    621\u001b[0m \u001b[43m    \u001b[49m\u001b[43mbase_path\u001b[49m\u001b[38;5;241;43m=\u001b[39;49m\u001b[38;5;28;43mself\u001b[39;49m\u001b[38;5;241;43m.\u001b[39;49m\u001b[43mbase_path\u001b[49m\u001b[43m,\u001b[49m\n\u001b[0;32m    622\u001b[0m \u001b[43m    \u001b[49m\u001b[43mdownload_config\u001b[49m\u001b[38;5;241;43m=\u001b[39;49m\u001b[43mDownloadConfig\u001b[49m\u001b[43m(\u001b[49m\u001b[43mtoken\u001b[49m\u001b[38;5;241;43m=\u001b[39;49m\u001b[38;5;28;43mself\u001b[39;49m\u001b[38;5;241;43m.\u001b[39;49m\u001b[43mtoken\u001b[49m\u001b[43m,\u001b[49m\u001b[43m \u001b[49m\u001b[43mstorage_options\u001b[49m\u001b[38;5;241;43m=\u001b[39;49m\u001b[38;5;28;43mself\u001b[39;49m\u001b[38;5;241;43m.\u001b[39;49m\u001b[43mstorage_options\u001b[49m\u001b[43m)\u001b[49m\u001b[43m,\u001b[49m\n\u001b[0;32m    623\u001b[0m \u001b[43m\u001b[49m\u001b[43m)\u001b[49m\n\u001b[0;32m    625\u001b[0m \u001b[38;5;66;03m# compute the config id that is going to be used for caching\u001b[39;00m\n\u001b[0;32m    626\u001b[0m config_id \u001b[38;5;241m=\u001b[39m builder_config\u001b[38;5;241m.\u001b[39mcreate_config_id(\n\u001b[0;32m    627\u001b[0m     config_kwargs,\n\u001b[0;32m    628\u001b[0m     custom_features\u001b[38;5;241m=\u001b[39mcustom_features,\n\u001b[0;32m    629\u001b[0m )\n",
      "File \u001b[1;32mc:\\Users\\nguye\\AppData\\Local\\Programs\\Python\\Python310\\lib\\site-packages\\datasets\\builder.py:211\u001b[0m, in \u001b[0;36mBuilderConfig._resolve_data_files\u001b[1;34m(self, base_path, download_config)\u001b[0m\n\u001b[0;32m    209\u001b[0m \u001b[38;5;28;01mif\u001b[39;00m \u001b[38;5;28misinstance\u001b[39m(\u001b[38;5;28mself\u001b[39m\u001b[38;5;241m.\u001b[39mdata_files, DataFilesPatternsDict):\n\u001b[0;32m    210\u001b[0m     base_path \u001b[38;5;241m=\u001b[39m xjoin(base_path, \u001b[38;5;28mself\u001b[39m\u001b[38;5;241m.\u001b[39mdata_dir) \u001b[38;5;28;01mif\u001b[39;00m \u001b[38;5;28mself\u001b[39m\u001b[38;5;241m.\u001b[39mdata_dir \u001b[38;5;28;01melse\u001b[39;00m base_path\n\u001b[1;32m--> 211\u001b[0m     \u001b[38;5;28mself\u001b[39m\u001b[38;5;241m.\u001b[39mdata_files \u001b[38;5;241m=\u001b[39m \u001b[38;5;28;43mself\u001b[39;49m\u001b[38;5;241;43m.\u001b[39;49m\u001b[43mdata_files\u001b[49m\u001b[38;5;241;43m.\u001b[39;49m\u001b[43mresolve\u001b[49m\u001b[43m(\u001b[49m\u001b[43mbase_path\u001b[49m\u001b[43m,\u001b[49m\u001b[43m \u001b[49m\u001b[43mdownload_config\u001b[49m\u001b[43m)\u001b[49m\n",
      "File \u001b[1;32mc:\\Users\\nguye\\AppData\\Local\\Programs\\Python\\Python310\\lib\\site-packages\\datasets\\data_files.py:799\u001b[0m, in \u001b[0;36mDataFilesPatternsDict.resolve\u001b[1;34m(self, base_path, download_config)\u001b[0m\n\u001b[0;32m    797\u001b[0m out \u001b[38;5;241m=\u001b[39m DataFilesDict()\n\u001b[0;32m    798\u001b[0m \u001b[38;5;28;01mfor\u001b[39;00m key, data_files_patterns_list \u001b[38;5;129;01min\u001b[39;00m \u001b[38;5;28mself\u001b[39m\u001b[38;5;241m.\u001b[39mitems():\n\u001b[1;32m--> 799\u001b[0m     out[key] \u001b[38;5;241m=\u001b[39m \u001b[43mdata_files_patterns_list\u001b[49m\u001b[38;5;241;43m.\u001b[39;49m\u001b[43mresolve\u001b[49m\u001b[43m(\u001b[49m\u001b[43mbase_path\u001b[49m\u001b[43m,\u001b[49m\u001b[43m \u001b[49m\u001b[43mdownload_config\u001b[49m\u001b[43m)\u001b[49m\n\u001b[0;32m    800\u001b[0m \u001b[38;5;28;01mreturn\u001b[39;00m out\n",
      "File \u001b[1;32mc:\\Users\\nguye\\AppData\\Local\\Programs\\Python\\Python310\\lib\\site-packages\\datasets\\data_files.py:752\u001b[0m, in \u001b[0;36mDataFilesPatternsList.resolve\u001b[1;34m(self, base_path, download_config)\u001b[0m\n\u001b[0;32m    749\u001b[0m \u001b[38;5;28;01mfor\u001b[39;00m pattern, allowed_extensions \u001b[38;5;129;01min\u001b[39;00m \u001b[38;5;28mzip\u001b[39m(\u001b[38;5;28mself\u001b[39m, \u001b[38;5;28mself\u001b[39m\u001b[38;5;241m.\u001b[39mallowed_extensions):\n\u001b[0;32m    750\u001b[0m     \u001b[38;5;28;01mtry\u001b[39;00m:\n\u001b[0;32m    751\u001b[0m         data_files\u001b[38;5;241m.\u001b[39mextend(\n\u001b[1;32m--> 752\u001b[0m             \u001b[43mresolve_pattern\u001b[49m\u001b[43m(\u001b[49m\n\u001b[0;32m    753\u001b[0m \u001b[43m                \u001b[49m\u001b[43mpattern\u001b[49m\u001b[43m,\u001b[49m\n\u001b[0;32m    754\u001b[0m \u001b[43m                \u001b[49m\u001b[43mbase_path\u001b[49m\u001b[38;5;241;43m=\u001b[39;49m\u001b[43mbase_path\u001b[49m\u001b[43m,\u001b[49m\n\u001b[0;32m    755\u001b[0m \u001b[43m                \u001b[49m\u001b[43mallowed_extensions\u001b[49m\u001b[38;5;241;43m=\u001b[39;49m\u001b[43mallowed_extensions\u001b[49m\u001b[43m,\u001b[49m\n\u001b[0;32m    756\u001b[0m \u001b[43m                \u001b[49m\u001b[43mdownload_config\u001b[49m\u001b[38;5;241;43m=\u001b[39;49m\u001b[43mdownload_config\u001b[49m\u001b[43m,\u001b[49m\n\u001b[0;32m    757\u001b[0m \u001b[43m            \u001b[49m\u001b[43m)\u001b[49m\n\u001b[0;32m    758\u001b[0m         )\n\u001b[0;32m    759\u001b[0m     \u001b[38;5;28;01mexcept\u001b[39;00m \u001b[38;5;167;01mFileNotFoundError\u001b[39;00m:\n\u001b[0;32m    760\u001b[0m         \u001b[38;5;28;01mif\u001b[39;00m \u001b[38;5;129;01mnot\u001b[39;00m has_magic(pattern):\n",
      "File \u001b[1;32mc:\\Users\\nguye\\AppData\\Local\\Programs\\Python\\Python310\\lib\\site-packages\\datasets\\data_files.py:393\u001b[0m, in \u001b[0;36mresolve_pattern\u001b[1;34m(pattern, base_path, allowed_extensions, download_config)\u001b[0m\n\u001b[0;32m    391\u001b[0m     \u001b[38;5;28;01mif\u001b[39;00m allowed_extensions \u001b[38;5;129;01mis\u001b[39;00m \u001b[38;5;129;01mnot\u001b[39;00m \u001b[38;5;28;01mNone\u001b[39;00m:\n\u001b[0;32m    392\u001b[0m         error_msg \u001b[38;5;241m+\u001b[39m\u001b[38;5;241m=\u001b[39m \u001b[38;5;124mf\u001b[39m\u001b[38;5;124m\"\u001b[39m\u001b[38;5;124m with any supported extension \u001b[39m\u001b[38;5;132;01m{\u001b[39;00m\u001b[38;5;28mlist\u001b[39m(allowed_extensions)\u001b[38;5;132;01m}\u001b[39;00m\u001b[38;5;124m\"\u001b[39m\n\u001b[1;32m--> 393\u001b[0m     \u001b[38;5;28;01mraise\u001b[39;00m \u001b[38;5;167;01mFileNotFoundError\u001b[39;00m(error_msg)\n\u001b[0;32m    394\u001b[0m \u001b[38;5;28;01mreturn\u001b[39;00m out\n",
      "\u001b[1;31mFileNotFoundError\u001b[0m: Unable to find 'hf://datasets/Matthijs/cmu-arctic-xvectors@36e87b347a6a70f0420445b02ec40c55556f9ed7/default/validation/0000.parquet' with any supported extension ['.csv', '.tsv', '.json', '.jsonl', '.parquet', '.geoparquet', '.gpq', '.arrow', '.txt', '.tar', '.blp', '.bmp', '.dib', '.bufr', '.cur', '.pcx', '.dcx', '.dds', '.ps', '.eps', '.fit', '.fits', '.fli', '.flc', '.ftc', '.ftu', '.gbr', '.gif', '.grib', '.h5', '.hdf', '.png', '.apng', '.jp2', '.j2k', '.jpc', '.jpf', '.jpx', '.j2c', '.icns', '.ico', '.im', '.iim', '.tif', '.tiff', '.jfif', '.jpe', '.jpg', '.jpeg', '.mpg', '.mpeg', '.msp', '.pcd', '.pxr', '.pbm', '.pgm', '.ppm', '.pnm', '.psd', '.bw', '.rgb', '.rgba', '.sgi', '.ras', '.tga', '.icb', '.vda', '.vst', '.webp', '.wmf', '.emf', '.xbm', '.xpm', '.BLP', '.BMP', '.DIB', '.BUFR', '.CUR', '.PCX', '.DCX', '.DDS', '.PS', '.EPS', '.FIT', '.FITS', '.FLI', '.FLC', '.FTC', '.FTU', '.GBR', '.GIF', '.GRIB', '.H5', '.HDF', '.PNG', '.APNG', '.JP2', '.J2K', '.JPC', '.JPF', '.JPX', '.J2C', '.ICNS', '.ICO', '.IM', '.IIM', '.TIF', '.TIFF', '.JFIF', '.JPE', '.JPG', '.JPEG', '.MPG', '.MPEG', '.MSP', '.PCD', '.PXR', '.PBM', '.PGM', '.PPM', '.PNM', '.PSD', '.BW', '.RGB', '.RGBA', '.SGI', '.RAS', '.TGA', '.ICB', '.VDA', '.VST', '.WEBP', '.WMF', '.EMF', '.XBM', '.XPM', '.aiff', '.au', '.avr', '.caf', '.flac', '.htk', '.svx', '.mat4', '.mat5', '.mpc2k', '.ogg', '.paf', '.pvf', '.raw', '.rf64', '.sd2', '.sds', '.ircam', '.voc', '.w64', '.wav', '.nist', '.wavex', '.wve', '.xi', '.mp3', '.opus', '.AIFF', '.AU', '.AVR', '.CAF', '.FLAC', '.HTK', '.SVX', '.MAT4', '.MAT5', '.MPC2K', '.OGG', '.PAF', '.PVF', '.RAW', '.RF64', '.SD2', '.SDS', '.IRCAM', '.VOC', '.W64', '.WAV', '.NIST', '.WAVEX', '.WVE', '.XI', '.MP3', '.OPUS', '.zip']"
     ]
    },
    {
     "ename": "",
     "evalue": "",
     "output_type": "error",
     "traceback": [
      "\u001b[1;31mThe Kernel crashed while executing code in the current cell or a previous cell. \n",
      "\u001b[1;31mPlease review the code in the cell(s) to identify a possible cause of the failure. \n",
      "\u001b[1;31mClick <a href='https://aka.ms/vscodeJupyterKernelCrash'>here</a> for more info. \n",
      "\u001b[1;31mView Jupyter <a href='command:jupyter.viewOutput'>log</a> for further details."
     ]
    }
   ],
   "source": [
    "from datasets import load_dataset\n",
    "embeddings_dataset = load_dataset(\"Matthijs/cmu-arctic-xvectors\", split=\"validation\")"
   ]
  },
  {
   "cell_type": "code",
   "execution_count": null,
   "metadata": {},
   "outputs": [
    {
     "name": "stdout",
     "output_type": "stream",
     "text": [
      "Looking in indexes: https://pypi.org/simple, https://pypi.ngc.nvidia.com\n",
      "Collecting cTTS\n",
      "  Downloading cTTS-0.0.3-py3-none-any.whl (8.6 kB)\n",
      "Requirement already satisfied: setuptools>=42 in c:\\users\\nguye\\appdata\\local\\programs\\python\\python310\\lib\\site-packages (from cTTS) (68.2.0)\n",
      "Requirement already satisfied: wheel in c:\\users\\nguye\\appdata\\local\\programs\\python\\python310\\lib\\site-packages (from cTTS) (0.38.4)\n",
      "Collecting response (from cTTS)\n",
      "  Downloading response-0.5.0-py3-none-any.whl (14 kB)\n",
      "Requirement already satisfied: numpy in c:\\users\\nguye\\appdata\\local\\programs\\python\\python310\\lib\\site-packages (from response->cTTS) (1.26.2)\n",
      "Requirement already satisfied: scipy in c:\\users\\nguye\\appdata\\local\\programs\\python\\python310\\lib\\site-packages (from response->cTTS) (1.10.1)\n",
      "Requirement already satisfied: matplotlib>=2.2.0 in c:\\users\\nguye\\appdata\\local\\programs\\python\\python310\\lib\\site-packages (from response->cTTS) (3.7.2)\n",
      "Requirement already satisfied: contourpy>=1.0.1 in c:\\users\\nguye\\appdata\\local\\programs\\python\\python310\\lib\\site-packages (from matplotlib>=2.2.0->response->cTTS) (1.0.7)\n",
      "Requirement already satisfied: cycler>=0.10 in c:\\users\\nguye\\appdata\\local\\programs\\python\\python310\\lib\\site-packages (from matplotlib>=2.2.0->response->cTTS) (0.11.0)\n",
      "Requirement already satisfied: fonttools>=4.22.0 in c:\\users\\nguye\\appdata\\local\\programs\\python\\python310\\lib\\site-packages (from matplotlib>=2.2.0->response->cTTS) (4.39.3)\n",
      "Requirement already satisfied: kiwisolver>=1.0.1 in c:\\users\\nguye\\appdata\\local\\programs\\python\\python310\\lib\\site-packages (from matplotlib>=2.2.0->response->cTTS) (1.4.4)\n",
      "Requirement already satisfied: packaging>=20.0 in c:\\users\\nguye\\appdata\\local\\programs\\python\\python310\\lib\\site-packages (from matplotlib>=2.2.0->response->cTTS) (23.1)\n",
      "Requirement already satisfied: pillow>=6.2.0 in c:\\users\\nguye\\appdata\\local\\programs\\python\\python310\\lib\\site-packages (from matplotlib>=2.2.0->response->cTTS) (9.5.0)\n",
      "Requirement already satisfied: pyparsing<3.1,>=2.3.1 in c:\\users\\nguye\\appdata\\local\\programs\\python\\python310\\lib\\site-packages (from matplotlib>=2.2.0->response->cTTS) (3.0.8)\n",
      "Requirement already satisfied: python-dateutil>=2.7 in c:\\users\\nguye\\appdata\\local\\programs\\python\\python310\\lib\\site-packages (from matplotlib>=2.2.0->response->cTTS) (2.8.2)\n",
      "Requirement already satisfied: six>=1.5 in c:\\users\\nguye\\appdata\\local\\programs\\python\\python310\\lib\\site-packages (from python-dateutil>=2.7->matplotlib>=2.2.0->response->cTTS) (1.16.0)\n",
      "Installing collected packages: response, cTTS\n",
      "Successfully installed cTTS-0.0.3 response-0.5.0\n"
     ]
    },
    {
     "name": "stderr",
     "output_type": "stream",
     "text": [
      "WARNING: Ignoring invalid distribution - (c:\\users\\nguye\\appdata\\local\\programs\\python\\python310\\lib\\site-packages)\n",
      "WARNING: Ignoring invalid distribution -ensorflow-intel (c:\\users\\nguye\\appdata\\local\\programs\\python\\python310\\lib\\site-packages)\n",
      "WARNING: Ignoring invalid distribution -illow (c:\\users\\nguye\\appdata\\local\\programs\\python\\python310\\lib\\site-packages)\n",
      "WARNING: Ignoring invalid distribution -orch (c:\\users\\nguye\\appdata\\local\\programs\\python\\python310\\lib\\site-packages)\n",
      "WARNING: Ignoring invalid distribution -rotobuf (c:\\users\\nguye\\appdata\\local\\programs\\python\\python310\\lib\\site-packages)\n",
      "WARNING: Ignoring invalid distribution -ylibjpeg-libjpeg (c:\\users\\nguye\\appdata\\local\\programs\\python\\python310\\lib\\site-packages)\n",
      "WARNING: Ignoring invalid distribution -ython-gdcm (c:\\users\\nguye\\appdata\\local\\programs\\python\\python310\\lib\\site-packages)\n",
      "WARNING: Ignoring invalid distribution - (c:\\users\\nguye\\appdata\\local\\programs\\python\\python310\\lib\\site-packages)\n",
      "WARNING: Ignoring invalid distribution -ensorflow-intel (c:\\users\\nguye\\appdata\\local\\programs\\python\\python310\\lib\\site-packages)\n",
      "WARNING: Ignoring invalid distribution -illow (c:\\users\\nguye\\appdata\\local\\programs\\python\\python310\\lib\\site-packages)\n",
      "WARNING: Ignoring invalid distribution -orch (c:\\users\\nguye\\appdata\\local\\programs\\python\\python310\\lib\\site-packages)\n",
      "WARNING: Ignoring invalid distribution -rotobuf (c:\\users\\nguye\\appdata\\local\\programs\\python\\python310\\lib\\site-packages)\n",
      "WARNING: Ignoring invalid distribution -ylibjpeg-libjpeg (c:\\users\\nguye\\appdata\\local\\programs\\python\\python310\\lib\\site-packages)\n",
      "WARNING: Ignoring invalid distribution -ython-gdcm (c:\\users\\nguye\\appdata\\local\\programs\\python\\python310\\lib\\site-packages)\n",
      "\n",
      "[notice] A new release of pip is available: 23.3.1 -> 24.0\n",
      "[notice] To update, run: python.exe -m pip install --upgrade pip\n"
     ]
    }
   ],
   "source": [
    "!pip install cTTS\n"
   ]
  },
  {
   "cell_type": "code",
   "execution_count": 1,
   "metadata": {},
   "outputs": [
    {
     "data": {
      "image/png": "[encoded data removed]",
      "text/plain": [
       "<Figure size 640x480 with 1 Axes>"
      ]
     },
     "metadata": {},
     "output_type": "display_data"
    }
   ],
   "source": [
    "import numpy as np\n",
    "from scipy.interpolate import UnivariateSpline\n",
    "\n",
    "# Tạo dữ liệu mẫu với 1000 điểm\n",
    "x = np.linspace(0, 10, 1000)\n",
    "y = np.sin(x)\n",
    "\n",
    "# Sử dụng spline nội suy để xây dựng đường cong mượt\n",
    "spline = UnivariateSpline(x, y)\n",
    "\n",
    "# Lấy mẫu 300 điểm trên đường cong\n",
    "x_sampled = np.linspace(0, 10, 300)\n",
    "y_sampled = spline(x_sampled)\n",
    "\n",
    "# Hiển thị đồ thị\n",
    "import matplotlib.pyplot as plt\n",
    "\n",
    "plt.plot(x, y, label='Dữ liệu ban đầu')\n",
    "plt.plot(x_sampled, y_sampled, 'ro', label='300 điểm điều khiển')\n",
    "plt.legend()\n",
    "plt.show()\n"
   ]
  },
  {
   "cell_type": "code",
   "execution_count": 5,
   "metadata": {},
   "outputs": [
    {
     "name": "stderr",
     "output_type": "stream",
     "text": [
      "ERROR:root:Error calling Coqui TTS server api\n"
     ]
    },
    {
     "name": "stdout",
     "output_type": "stream",
     "text": [
      "HTTPConnectionPool(host='localhost', port=5002): Max retries exceeded with url: /api/tts?text=This+is+a+test. (Caused by NewConnectionError('<urllib3.connection.HTTPConnection object at 0x000001AEDB273070>: Failed to establish a new connection: [WinError 10061] No connection could be made because the target machine actively refused it'))\n"
     ]
    },
    {
     "data": {
      "text/plain": [
       "False"
      ]
     },
     "execution_count": 5,
     "metadata": {},
     "output_type": "execute_result"
    }
   ],
   "source": [
    "import cTTS\n",
    "\n",
    "cTTS.synthesizeToFile(\"output.wav\", \"This is a test.\")"
   ]
  },
  {
   "cell_type": "code",
   "execution_count": null,
   "metadata": {},
   "outputs": [],
   "source": []
  }
 ],
 "metadata": {
  "kernelspec": {
   "display_name": "Python 3",
   "language": "python",
   "name": "python3"
  },
  "language_info": {
   "codemirror_mode": {
    "name": "ipython",
    "version": 3
   },
   "file_extension": ".py",
   "mimetype": "text/x-python",
   "name": "python",
   "nbconvert_exporter": "python",
   "pygments_lexer": "ipython3",
   "version": "3.10.6"
  }
 },
 "nbformat": 4,
 "nbformat_minor": 2
}
